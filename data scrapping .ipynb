{
 "cells": [
  {
   "cell_type": "code",
   "execution_count": 1,
   "id": "f0bf2e87",
   "metadata": {},
   "outputs": [],
   "source": [
    "from bs4 import BeautifulSoup\n",
    "import requests\n",
    "import csv"
   ]
  },
  {
   "cell_type": "code",
   "execution_count": 2,
   "id": "eebafd3b",
   "metadata": {},
   "outputs": [
    {
     "name": "stdout",
     "output_type": "stream",
     "text": [
      "<Response [200]>\n"
     ]
    }
   ],
   "source": [
    "#get page\n",
    "page = requests.get('https://www.ebay.com/sch/i.html?_from=R40&_trksid=p2334524.m570.l1313.TR12.TRC2.A0.H0.Xmouse.TRS0&_nkw=mouse&_sacat=0&LH_TitleDesc=0&_osacat=0&_odkw=laptop%22)#(%22https://www.ebay.com/sch/i.html?_from=R40&_nkw=phone&_sacat=0&_ipg=200')\n",
    "print (page)"
   ]
  },
  {
   "cell_type": "code",
   "execution_count": 3,
   "id": "d93c9ce9",
   "metadata": {},
   "outputs": [
    {
     "data": {
      "text/plain": [
       "bs4.BeautifulSoup"
      ]
     },
     "execution_count": 3,
     "metadata": {},
     "output_type": "execute_result"
    }
   ],
   "source": [
    "#<div class=\"s-item__info clearfix\"><a data-interactions=\"[{&quot;actionKind&quot;:&quot;NAVSRC&quot;,&quot;interaction&quot;:&quot;wwFVrK2vRE0lhQY0MDFHR1daTTJLOFpZVDJEUDg0V0gwMlc2SlI0MDFHR1daTTMyUThRNFZXNVdCNlFRMkQ2NkU0MDFHR1daTTM3QllHQUoyRTlIMUVFNTdBNUQAAAg3NDAwDE5BVlNSQwA=&quot;}]\" target=\"_blank\" data-s-0vdb466=\"{&quot;eventFamily&quot;:&quot;LST&quot;,&quot;eventAction&quot;:&quot;ACTN&quot;,&quot;actionKind&quot;:&quot;NAVSRC&quot;,&quot;actionKinds&quot;:[&quot;NAVSRC&quot;],&quot;operationId&quot;:&quot;2351460&quot;,&quot;flushImmediately&quot;:false,&quot;eventProperty&quot;:{&quot;$l&quot;:&quot;1163362140193951&quot;}}\" _sp=\"p2351460.m1686.l7400\" class=\"s-item__link\" href=\"https://www.ebay.com/itm/394285554454?hash=item5bcd401b16:g:mGEAAOSwIa5jR3SO&amp;amdata=enc%3AAQAHAAAAsFhkmKZ85YZb8qSqrLR96luh1JlKfBD1wo9zwwB3oWypi9owJCOPVbOjCxXbjC5YTA9kdvB4%2FdveffPgHxF4sH3KuIatRvifVT%2BdwDetiBCLrtecYF4JD%2FxepFp1qRNiKI05l%2FVUEDyRgP9UxvoLpMOP8ZUGnRGGeMvFhmgeEZ%2BKJG2wBk%2FfMCxsPjxr5j75GQThoFLgkza5RMRdTFRW2WYvB6hZ1hj9R7iwhe9%2FRhqz%7Ctkp%3ABlBMUOCx0J-HYQ\"><div class=\"s-item__title\"><span role=\"heading\" aria-level=\"3\">Ergonomic Wireless 2.4GHz 1600 DPI Optical Mouse +USB Receiver For Laptop Mac</span></div><span class=\"clipped\">Opens in a new window or tab</span></a><div class=\"s-item__subtitle\"><span class=\"SECONDARY_INFO\">Brand New</span></div><div class=\"s-item__details clearfix\"><div class=\"s-item__detail s-item__detail--primary\"><span class=\"s-item__price\">$5.99</span></div><span class=\"s-item__detail s-item__detail--secondary\"><div class=\"s-item__sme-container\"><span class=\"s-item__sme s-item__smeInfo\"><span class=\"NEGATIVE BOLD\">Save up to 20% when you buy more</span></span></div></span><div class=\"s-item__detail s-item__detail--primary\"><span class=\"s-item__dynamic s-item__purchaseOptionsWithIcon\">Buy It Now</span></div><div class=\"s-item__detail s-item__detail--primary\"><span class=\"s-item__shipping s-item__logisticsCost\">Free shipping</span></div><div class=\"s-item__detail s-item__detail--primary\"><span class=\"s-item__free-returns s-item__freeReturnsNoFee\">Free returns</span></div><div class=\"s-item__detail s-item__detail--primary\"><span> <span aria-labelledby=\"s-0vdb466\" class=\"s-0vdb466_s-e5h3335\" role=\"text text\"><span aria-hidden=\"true\">​<wbr><span>Sponsored</span></span></span></span><span class=\"s-item__space_bar\"></span></div></div></div>\n",
    "#<span role=\"heading\" aria-level=\"3\">Ergonomic Wireless 2.4GHz 1600 DPI Optical Mouse +USB Receiver For Laptop Mac</span>\n",
    "#<span class=\"SECONDARY_INFO\">Brand New</span>\n",
    "#<span class=\"s-item__price\">$5.99</span>\n",
    "soup = BeautifulSoup(page.content,\"html.parser\")\n",
    "type (soup)\n"
   ]
  },
  {
   "cell_type": "code",
   "execution_count": 13,
   "id": "1d1a62f6",
   "metadata": {},
   "outputs": [
    {
     "data": {
      "text/plain": [
       "<title>mouse | eBay</title>"
      ]
     },
     "execution_count": 13,
     "metadata": {},
     "output_type": "execute_result"
    }
   ],
   "source": [
    "#print title of the page\n",
    "soup.title "
   ]
  },
  {
   "cell_type": "code",
   "execution_count": 14,
   "id": "195937da",
   "metadata": {},
   "outputs": [
    {
     "data": {
      "text/plain": [
       "'mouse | eBay'"
      ]
     },
     "execution_count": 14,
     "metadata": {},
     "output_type": "execute_result"
    }
   ],
   "source": [
    "#print title of the page without html tags\n",
    "soup.title.text"
   ]
  },
  {
   "cell_type": "code",
   "execution_count": 15,
   "id": "e22b2d2d",
   "metadata": {},
   "outputs": [
    {
     "data": {
      "text/plain": [
       "76"
      ]
     },
     "execution_count": 15,
     "metadata": {},
     "output_type": "execute_result"
    }
   ],
   "source": [
    "a=soup.find_all(class_=\"s-item__info clearfix\")\n",
    "len(a)"
   ]
  },
  {
   "cell_type": "code",
   "execution_count": 17,
   "id": "fbaf77d3",
   "metadata": {},
   "outputs": [
    {
     "name": "stdout",
     "output_type": "stream",
     "text": [
      "['Shop on eBay', '2.4GHz Wireless Optical Mouse Mice & USB Receiver For PC Laptop Computer DPI USA', 'Ergonomic Wireless 2.4GHz 1600 DPI Optical Mouse +USB Receiver For Laptop Mac', 'Portable  Wireless Mouse,  2.4GHz Silent with USB Receiver, Optical USB Mouse', '2.4GHz Wireless Optical Mouse Mice & USB Receiver For PC Laptop Computer DPI USA', '2.4GHz Wireless Optical Mouse USB Rechargeable RGB Cordless Mice For PC Laptop', '2.4GHz Wireless Optical Mouse Mice & USB Receiver For PC Laptop Computer DPI USA', '2.4GHz Wireless Optical Mouse USB Rechargeable RGB Cordless Mice For PC Laptop', 'Philips SPK7234 USB Wired Computer Mouse for PC Laptop Desktop Computers', 'Lenovo Wired USB Mouse', 'Gaming Mouse 7 Button USB Wired LED Breathing Fire Button 3200 DPI Laptop PC', '2.4GHz Wireless Optical Mouse USB Rechargeable RGB Cordless Mice For PC Laptop', '2.4GHz Wireless Optical Mouse Mice & USB Receiver For PC Laptop Computer DPI ', '2.4GHz Wireless Optical Mouse Mice & USB Receiver For PC Laptop Computer DPI USA', '2 Wireless Optical Mouse Mice 2.4GHz USB Receiver For Laptop PC Computer DPI USA', '2.4GHz Wireless Optical Mouse Mice & USB Receiver For PC Laptop Computer DPI USA', '2.4GHz High Quality Wireless Optical Mouse/Mice + USB 2.0 Receiver for PC Laptop', 'Razer DeathAdder Essential Gaming Mouse: 6400 DPI - Classic Black', 'Ergonomic Mouse Optical Vertical Mice 6 Keys USB Wireless 2.4GHz 1200DPI For PC', '2.4GHz Wireless 1600 DPI Optical Mouse Mice & USB Receiver For PC Laptop Mac', '2.4GHz Wireless Cordless Optical Mouse Mice +USB Receiver for PC Laptop', 'Lenovo Select Wireless Basic Mouse', '2.4GHz Wireless Gaming Mouse USB Receiver Optical for Laptop Computer DPI USA', '2.4GHz USB Wireless Optical Mouse Mice for Apple Mac Macbook Pro Air PC White', 'USB 2.0 Optical Wired Scroll Wheel Mouse For PC Laptop Notebook Desktop Red Mice', 'EVGA X17 Wired Customizable Gaming Mouse - USB Cable Interface', 'Gaming Mouse RGB LED Backlight USB Wired Gamer Mouse Optical Mice For PC Laptop', 'Premium Bluetooth Mouse Mice For MacBook Air Pro iPad iMac PC Laptop Tablet @USA', 'Mouse Jiggler Undetectable Mouse Mover Device USB Port For Laptop Mouse Wiggler.', 'Gaming Mouse LED Breathing Fire 4 Button Silent USB Wired 1600 DPI Laptop PC USA', '2.4GHz Wireless Optical Mouse USB Rechargeable RGB Cordless Mice For PC Laptop', '2.4GHz Wireless Optical Mouse Mice & USB Receiver For PC Laptop Computer DPI USA', '2.4GHz Wireless Optical Mouse USB Rechargeable RGB Cordless Mice For PC Laptop', 'New ListingRazer Deathadder Essential Gaming Mouse - Black', 'USB 2.0 Optical Wired Scroll Wheel Mouse for PC Laptop Notebook Desktop Red Mice', 'Logitech G502 LightSpeed Wireless Gaming Mouse (910005565) - Black', '2.4GHz Wireless Optical Mouse Mice & USB Receiver For PC Laptop Computer DPI USA', 'Lenovo 600 Wireless Media Mouse', '2.4GHz Wireless Optical Mouse USB Rechargeable RGB Cordless Mice For PC Laptop', 'PICTEK Gaming Mouse Wired RGB Backlight Mice 8 Buttons for PC Laptop Desktop', 'Renewed Apple Mighty Mouse MB112LL/B  Optical Wired Mouse White', 'Wireless Gaming Mouse Vertical Ergonomic Optical Rechargeable Mice for PC Laptop', 'Apple Magic Mouse 2 A1657 , Wireless White. ', 'Lenovo 400 Wireless Mouse', 'Wireless Mouse LED Rechargeable Optical Computer Slim Mice for iPad Laptop PC', '2.4GHz Wireless Optical Mouse Mice & USB Receiver For PC Laptop Computer DPI USA', '2.4GHz Wireless Optical Mouse USB Rechargeable RGB Cordless Mice For PC Laptop', 'Ergonomic Mouse Optical Vertical Mice 6 Keys USB Wireless 2.4GHz 1200DPI For PC', '7200 DPI Ergonomic Wired Gaming Mouse Optical 8 Programmable Buttons RGB Backlit', 'Logitech M185 Wireless Optical Mouse   USB Receiver Fit Compact PC Laptop Mouse❤', '2 Pack- iHome Computer Classic Corded Optical Mouse - Black', 'For Laptop Computer Wireless Bluetooth Mouse Tri-Mode Silent Rechargeable Mice', 'New! Logitech G502 Hero High Performance Gaming Mouse ~Fast Shipping', 'Lenovo 400 USB-C Wired Compact Mouse', 'Genuine HP USB Optical Mouse 672652-001 Black Wired 2 Button Scroll', 'Wireless 2.4G Portable Gaming Optical Mouse Desktop Laptop - 6 Buttons BLACK jh', 'New ListingLogitech G Pro Wireless Gaming Mouse', 'Glorious   USB Wired Gaming Mouse - LED RGB  DPI Lightweight  for PC Laptop', 'Wireless Cordless Bluetooth Optical Mouse Mice with LED Light USB Rechargeable', '2.4GHz Wireless Mouse Optical Mice 1600DPI USB Receiver for Laptop Computer PC', 'Razer Viper Mini Ultra-Light USB Wired Chroma Gaming Mouse', '2.4GHz USB Wireless Optical Mouse Mice for Apple Mac Macbook Pro Air PC White', 'Logitech G203 LIGHTSYNC RGB Wired Optical Gaming Mouse BLACK 910-005790', 'US 2.4G Wireless Receiver for Mouse And Keyboard USB Adapter Wireless Dongle NEW', 'Amazon Basics 3-Button USB Wired Computer Mouse Black PC Desktop Laptop ', 'Vivitar Light Up Wireless Mouse Blue', 'New ListingMouse Jiggler Undetectable Mouse Mover Device USB Port For Laptop Mouse Wiggler.', 'Logitech - M325 Wireless Optical Ambidextrous Mouse - Black', 'New Mini Retractable USB Optical Scroll Wheel PC Laptop Notebook Mouse Mice Us', 'Razer Viper Mini Ultralight Gaming Mouse: Fastest Gaming Switches - 8500 DPI Opt', 'Apple Magic Mouse 2 - Silver - MK2E3AM/A - **NEW**', ' Logitech G502 HERO 25K RGB Wired Optical Gaming Mouse Black 910-005469', 'Wireless Bluetooth Mouse 5.1 Dual Mode LED Rechargeable Mice for iPad Laptop PC', 'Logitech G502 Hero Wired Gaming Mouse 25K Sensor Lightsync 11 ProgrammableButton', '2.4GHz Wireless Optical Mouse Mice & USB Receiver For PC Laptop Computer Monitor', 'Rechargeable X8 Wireless Silent LED Backlit USB Optical Ergonomic Gaming Mouse R']\n"
     ]
    }
   ],
   "source": [
    "#create list for period names\n",
    "product_name =[]\n",
    "for f in a:\n",
    "    f1=f.find(class_=\"s-item__title\")\n",
    "    product_name.append(f1.text)\n",
    "print (product_name)"
   ]
  },
  {
   "cell_type": "code",
   "execution_count": 19,
   "id": "4a3851be",
   "metadata": {},
   "outputs": [
    {
     "name": "stdout",
     "output_type": "stream",
     "text": [
      "['Brand New', 'Brand New', 'Brand New', 'Brand New', 'Brand New', 'Brand New', 'Brand New', 'Brand New', 'Brand New', 'Brand New', 'Brand New', 'Brand New', 'Brand New', 'Brand New', 'Brand New', 'Brand New', 'Brand New', 'Open Box', 'Brand New', 'Brand New', 'Brand New', 'Brand New', 'Brand New', 'Brand New', 'Brand New', 'Brand New', 'Brand New', 'Brand New', 'Brand New', 'Brand New', 'Brand New', 'Brand New', 'Brand New', 'Pre-Owned', 'Brand New', 'Open Box', 'Brand New', 'Brand New', 'Brand New', 'Brand New', 'Refurbished', 'Brand New', 'Pre-Owned', 'Brand New', 'Brand New', 'Brand New', 'Brand New', 'Brand New', 'Brand New', 'Brand New', 'Brand New', 'Brand New', 'Brand New', 'Brand New', 'Pre-Owned', 'Brand New', 'Pre-Owned', 'Brand New', 'Brand New', 'Brand New', 'Open Box', 'Brand New', 'Refurbished', 'Brand New', 'Brand New', 'Brand New', 'Brand New', 'Brand New', 'Brand New', 'Open Box', 'Open Box', 'Refurbished', 'Brand New', 'Open Box', 'Brand New', 'Brand New']\n"
     ]
    }
   ],
   "source": [
    "#create list for product condition\n",
    "product_condition =[]\n",
    "for f in a:\n",
    "    f1=f.find(class_=\"SECONDARY_INFO\")\n",
    "    product_condition.append(f1.text)\n",
    "print (product_condition)"
   ]
  },
  {
   "cell_type": "code",
   "execution_count": 33,
   "id": "4bf86e8a",
   "metadata": {},
   "outputs": [
    {
     "name": "stdout",
     "output_type": "stream",
     "text": [
      "['$20.00', '$6.59', '$5.99', '$5.75', '$6.64', '$6.95', '$5.95', '$8.59', '$7.99', '$6.99', '$7.95', '$7.85 to $8.69', '$2.99', '$6.75', '$9.73 to $9.85', '$5.88', '$7.55 to $13.50', '$10.50', '$10.99', '$5.99', '$8.60', '$11.99', '$6.99', '$6.88', '$6.89', '$17.99', '$6.39', '$9.89 to $9.99', '$8.90', '$6.75', '$8.27', '$5.99', '$7.75', '$10.00', '$6.99', '$63.99', '$5.73', '$14.99', '$7.99', '$9.99', '$10.04', '$13.98', '$32.99', '$14.99', '$9.99', '$5.99', '$7.99', '$9.99', '$9.99', '$6.64 to $8.07', '$9.99', '$15.36', '$33.00', '$6.99', '$6.00', '$5.75', '$44.99', '$5.88', '$7.21', '$6.95', '$17.99', '$5.97', '$12.88', '$2.18', '$7.95', '$5.00', '$8.79', 'Tap item to see current priceSee price', '$6.47', '$13.00', '$59.99', '$22.88', '$9.99', '$27.99', '$5.72', '$11.88']\n"
     ]
    }
   ],
   "source": [
    "#create list for product price\n",
    "product_price =[]\n",
    "for f in a:\n",
    "    f1=f.find(class_=\"s-item__price\")\n",
    "    product_price.append(f1.text)\n",
    "print (product_price)"
   ]
  },
  {
   "cell_type": "code",
   "execution_count": 32,
   "id": "40b0ae4a",
   "metadata": {},
   "outputs": [
    {
     "ename": "AttributeError",
     "evalue": "'NoneType' object has no attribute 'text'",
     "output_type": "error",
     "traceback": [
      "\u001b[1;31m---------------------------------------------------------------------------\u001b[0m",
      "\u001b[1;31mAttributeError\u001b[0m                            Traceback (most recent call last)",
      "Input \u001b[1;32mIn [32]\u001b[0m, in \u001b[0;36m<cell line: 3>\u001b[1;34m()\u001b[0m\n\u001b[0;32m      3\u001b[0m \u001b[38;5;28;01mfor\u001b[39;00m f \u001b[38;5;129;01min\u001b[39;00m a:\n\u001b[0;32m      4\u001b[0m     f1\u001b[38;5;241m=\u001b[39mf\u001b[38;5;241m.\u001b[39mfind(class_\u001b[38;5;241m=\u001b[39m\u001b[38;5;124m\"\u001b[39m\u001b[38;5;124mfeature-bullets\u001b[39m\u001b[38;5;124m\"\u001b[39m)\n\u001b[1;32m----> 5\u001b[0m     product_description\u001b[38;5;241m.\u001b[39mappend(\u001b[43mf1\u001b[49m\u001b[38;5;241;43m.\u001b[39;49m\u001b[43mtext\u001b[49m)\n\u001b[0;32m      6\u001b[0m \u001b[38;5;28mprint\u001b[39m (product_description)\n",
      "\u001b[1;31mAttributeError\u001b[0m: 'NoneType' object has no attribute 'text'"
     ]
    }
   ],
   "source": [
    "#description\n",
    "#product_description =[]\n",
    "#for f in a:\n",
    "#    f1=f.find(class_=\"feature-bullets\")\n",
    "#    product_description.append(f1.text)\n",
    "#print (product_description)"
   ]
  },
  {
   "cell_type": "code",
   "execution_count": 21,
   "id": "444271f6",
   "metadata": {},
   "outputs": [
    {
     "name": "stdout",
     "output_type": "stream",
     "text": [
      "                                                 Name    Condition   Price\n",
      "0                                        Shop on eBay    Brand New  $20.00\n",
      "1   2.4GHz Wireless Optical Mouse Mice & USB Recei...    Brand New   $6.59\n",
      "2   Ergonomic Wireless 2.4GHz 1600 DPI Optical Mou...    Brand New   $5.99\n",
      "3   Portable  Wireless Mouse,  2.4GHz Silent with ...    Brand New   $5.75\n",
      "4   2.4GHz Wireless Optical Mouse Mice & USB Recei...    Brand New   $6.64\n",
      "..                                                ...          ...     ...\n",
      "71   Logitech G502 HERO 25K RGB Wired Optical Gami...  Refurbished  $22.88\n",
      "72  Wireless Bluetooth Mouse 5.1 Dual Mode LED Rec...    Brand New   $9.99\n",
      "73  Logitech G502 Hero Wired Gaming Mouse 25K Sens...     Open Box  $27.99\n",
      "74  2.4GHz Wireless Optical Mouse Mice & USB Recei...    Brand New   $5.72\n",
      "75  Rechargeable X8 Wireless Silent LED Backlit US...    Brand New  $11.88\n",
      "\n",
      "[76 rows x 3 columns]\n"
     ]
    }
   ],
   "source": [
    "import pandas as pd\n",
    "description = pd.DataFrame({\n",
    "        \"Name\": product_name,\n",
    "         \"Condition\": product_condition,\n",
    "         \"Price\": product_price,\n",
    "             })\n",
    "print (description)"
   ]
  },
  {
   "cell_type": "code",
   "execution_count": 34,
   "id": "145a1cb7",
   "metadata": {},
   "outputs": [],
   "source": [
    "export_csv = description.to_csv ('product_info.csv', index = None, header=True) "
   ]
  },
  {
   "cell_type": "code",
   "execution_count": null,
   "id": "2b00c127",
   "metadata": {},
   "outputs": [],
   "source": []
  }
 ],
 "metadata": {
  "kernelspec": {
   "display_name": "Python 3 (ipykernel)",
   "language": "python",
   "name": "python3"
  },
  "language_info": {
   "codemirror_mode": {
    "name": "ipython",
    "version": 3
   },
   "file_extension": ".py",
   "mimetype": "text/x-python",
   "name": "python",
   "nbconvert_exporter": "python",
   "pygments_lexer": "ipython3",
   "version": "3.11.5"
  }
 },
 "nbformat": 4,
 "nbformat_minor": 5
}
